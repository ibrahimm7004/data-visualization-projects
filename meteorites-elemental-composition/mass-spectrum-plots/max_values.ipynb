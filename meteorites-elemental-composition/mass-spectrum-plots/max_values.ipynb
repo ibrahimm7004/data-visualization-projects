{
 "cells": [
  {
   "cell_type": "code",
   "execution_count": 1,
   "metadata": {},
   "outputs": [],
   "source": [
    "import pandas as pd\n",
    "import os"
   ]
  },
  {
   "cell_type": "code",
   "execution_count": 2,
   "metadata": {},
   "outputs": [],
   "source": [
    "folder_path = r'C:\\Users\\hp\\Desktop\\bmsis-ysp\\Elemental Composition assignments (.csv)'\n",
    "fixed_columns = [\"Average Noise\", \"Exp. m/z\", \"Recal m/z\", \"Theor. Mass\", \"Error\", \"Rel. Abundance\", \"Signal2Noise\", \"DBE\", \"H/C\", \"O/C\", \"Molecular Formula\"]"
   ]
  },
  {
   "cell_type": "code",
   "execution_count": 3,
   "metadata": {},
   "outputs": [],
   "source": [
    "def process_csvs(csv_file_path):\n",
    "    max_recal_mz = None\n",
    "    max_rel_abundance = None\n",
    "\n",
    "    with open(csv_file_path, 'r') as file:\n",
    "        for _ in range(2):\n",
    "            next(file)\n",
    "\n",
    "        for line in file:\n",
    "            row = line.strip().split(',')\n",
    "            recal_mz = float(row[fixed_columns.index(\"Recal m/z\")])\n",
    "            rel_abundance = float(row[fixed_columns.index(\"Rel. Abundance\")])\n",
    "            \n",
    "            if max_recal_mz is None or recal_mz > max_recal_mz:\n",
    "                max_recal_mz = recal_mz\n",
    "            \n",
    "            if max_rel_abundance is None or rel_abundance > max_rel_abundance:\n",
    "                max_rel_abundance = rel_abundance\n",
    "\n",
    "    return max_recal_mz, max_rel_abundance"
   ]
  },
  {
   "cell_type": "code",
   "execution_count": 4,
   "metadata": {},
   "outputs": [],
   "source": [
    "results = []\n",
    "\n",
    "for filename in os.listdir(folder_path):\n",
    "    if filename.endswith('.csv'):\n",
    "        file_path = os.path.join(folder_path, filename)\n",
    "        \n",
    "        max_recal_mz, max_rel_abundance = process_csvs(file_path)\n",
    "        \n",
    "        result_entry = {\n",
    "            'Filename': filename,\n",
    "            'Highest Recal m/z': max_recal_mz,\n",
    "            'Highest Rel. Abundance': max_rel_abundance\n",
    "        }\n",
    "        \n",
    "        results.append(result_entry)"
   ]
  },
  {
   "cell_type": "code",
   "execution_count": 5,
   "metadata": {},
   "outputs": [],
   "source": [
    "results_df = pd.DataFrame(results)"
   ]
  },
  {
   "cell_type": "code",
   "execution_count": 6,
   "metadata": {},
   "outputs": [
    {
     "data": {
      "text/html": [
       "<div>\n",
       "<style scoped>\n",
       "    .dataframe tbody tr th:only-of-type {\n",
       "        vertical-align: middle;\n",
       "    }\n",
       "\n",
       "    .dataframe tbody tr th {\n",
       "        vertical-align: top;\n",
       "    }\n",
       "\n",
       "    .dataframe thead th {\n",
       "        text-align: right;\n",
       "    }\n",
       "</style>\n",
       "<table border=\"1\" class=\"dataframe\">\n",
       "  <thead>\n",
       "    <tr style=\"text-align: right;\">\n",
       "      <th></th>\n",
       "      <th>Filename</th>\n",
       "      <th>Highest Recal m/z</th>\n",
       "      <th>Highest Rel. Abundance</th>\n",
       "    </tr>\n",
       "  </thead>\n",
       "  <tbody>\n",
       "    <tr>\n",
       "      <th>0</th>\n",
       "      <td>2023March23NegESI_17_Mars_Meteorites126p8_Sum2...</td>\n",
       "      <td>945.014630</td>\n",
       "      <td>33.878300</td>\n",
       "    </tr>\n",
       "    <tr>\n",
       "      <th>1</th>\n",
       "      <td>2023March23NegESI_20_Blank1_Aaron Burton_Sum75...</td>\n",
       "      <td>599.416451</td>\n",
       "      <td>1542.556396</td>\n",
       "    </tr>\n",
       "    <tr>\n",
       "      <th>2</th>\n",
       "      <td>2023March23NegESI_9_Lon94101_Sum200.csv</td>\n",
       "      <td>886.529680</td>\n",
       "      <td>27.462545</td>\n",
       "    </tr>\n",
       "    <tr>\n",
       "      <th>3</th>\n",
       "      <td>2023March23NegES_10_ALH83100_Sum200.csv</td>\n",
       "      <td>624.285650</td>\n",
       "      <td>42.605618</td>\n",
       "    </tr>\n",
       "    <tr>\n",
       "      <th>4</th>\n",
       "      <td>2023March24NegESI_13_1MHCHO_1MCH3CHO_10mMGA_1t...</td>\n",
       "      <td>949.480239</td>\n",
       "      <td>34.919365</td>\n",
       "    </tr>\n",
       "  </tbody>\n",
       "</table>\n",
       "</div>"
      ],
      "text/plain": [
       "                                            Filename  Highest Recal m/z  \\\n",
       "0  2023March23NegESI_17_Mars_Meteorites126p8_Sum2...         945.014630   \n",
       "1  2023March23NegESI_20_Blank1_Aaron Burton_Sum75...         599.416451   \n",
       "2            2023March23NegESI_9_Lon94101_Sum200.csv         886.529680   \n",
       "3            2023March23NegES_10_ALH83100_Sum200.csv         624.285650   \n",
       "4  2023March24NegESI_13_1MHCHO_1MCH3CHO_10mMGA_1t...         949.480239   \n",
       "\n",
       "   Highest Rel. Abundance  \n",
       "0               33.878300  \n",
       "1             1542.556396  \n",
       "2               27.462545  \n",
       "3               42.605618  \n",
       "4               34.919365  "
      ]
     },
     "execution_count": 6,
     "metadata": {},
     "output_type": "execute_result"
    }
   ],
   "source": [
    "results_df.head()"
   ]
  },
  {
   "cell_type": "code",
   "execution_count": 7,
   "metadata": {},
   "outputs": [
    {
     "data": {
      "text/plain": [
       "1147.5668335"
      ]
     },
     "execution_count": 7,
     "metadata": {},
     "output_type": "execute_result"
    }
   ],
   "source": [
    "results_df['Highest Recal m/z'].max()"
   ]
  },
  {
   "cell_type": "code",
   "execution_count": 8,
   "metadata": {},
   "outputs": [
    {
     "data": {
      "text/plain": [
       "1542.5563965"
      ]
     },
     "execution_count": 8,
     "metadata": {},
     "output_type": "execute_result"
    }
   ],
   "source": [
    "results_df['Highest Rel. Abundance'].max()"
   ]
  }
 ],
 "metadata": {
  "kernelspec": {
   "display_name": "Python 3",
   "language": "python",
   "name": "python3"
  },
  "language_info": {
   "codemirror_mode": {
    "name": "ipython",
    "version": 3
   },
   "file_extension": ".py",
   "mimetype": "text/x-python",
   "name": "python",
   "nbconvert_exporter": "python",
   "pygments_lexer": "ipython3",
   "version": "3.11.0"
  }
 },
 "nbformat": 4,
 "nbformat_minor": 2
}
